{
 "cells": [
  {
   "cell_type": "code",
   "execution_count": null,
   "id": "39d8e7d4",
   "metadata": {},
   "outputs": [],
   "source": [
    "import json\n",
    "import pandas as pd\n",
    "from eda_pipeline import EDA"
   ]
  },
  {
   "cell_type": "code",
   "execution_count": null,
   "id": "a16ac79b",
   "metadata": {},
   "outputs": [],
   "source": [
    "# Cài đặt thư viện này vì pd.to_excel() yêu cầu openpyxl\n",
    "# !pip install openpyxl=3.1.5"
   ]
  },
  {
   "cell_type": "markdown",
   "id": "a646666c",
   "metadata": {},
   "source": [
    "The input data must be in the specific format list in README folder, please give it a check!"
   ]
  },
  {
   "cell_type": "code",
   "execution_count": null,
   "id": "91017355",
   "metadata": {},
   "outputs": [],
   "source": [
    "with open('data/gemini/extracted_data.json',encoding='utf-8') as f:\n",
    "    data = json.load(f)"
   ]
  },
  {
   "cell_type": "markdown",
   "id": "3a01a9e3",
   "metadata": {},
   "source": [
    "The EDA pipeline will automatically run without needing to input anything but the data itself. However, please note that the pipeline is implemented with specific criteria in mind."
   ]
  },
  {
   "cell_type": "code",
   "execution_count": null,
   "id": "c351eec3",
   "metadata": {},
   "outputs": [],
   "source": [
    "pipeline = EDA(data)\n",
    "pipeline.run()"
   ]
  },
  {
   "cell_type": "code",
   "execution_count": null,
   "id": "9bdd9e81",
   "metadata": {},
   "outputs": [],
   "source": [
    "pd_df = pipeline.get_dataframe()"
   ]
  },
  {
   "cell_type": "code",
   "execution_count": null,
   "id": "3638d5d1",
   "metadata": {},
   "outputs": [],
   "source": [
    "pd_df = pipeline.get_dataframe()"
   ]
  },
  {
   "cell_type": "code",
   "execution_count": null,
   "id": "0fd69981",
   "metadata": {},
   "outputs": [],
   "source": [
    "pd_df.info()"
   ]
  },
  {
   "cell_type": "code",
   "execution_count": null,
   "id": "3b9a1e00",
   "metadata": {},
   "outputs": [],
   "source": [
    "pd_df.describe()"
   ]
  },
  {
   "cell_type": "code",
   "execution_count": null,
   "id": "192aa258",
   "metadata": {},
   "outputs": [],
   "source": [
    "# pd_df.to_csv('labeled_data/gemini.csv', index=False)"
   ]
  }
 ],
 "metadata": {
  "kernelspec": {
   "display_name": "ml-env",
   "language": "python",
   "name": "python3"
  },
  "language_info": {
   "codemirror_mode": {
    "name": "ipython",
    "version": 3
   },
   "file_extension": ".py",
   "mimetype": "text/x-python",
   "name": "python",
   "nbconvert_exporter": "python",
   "pygments_lexer": "ipython3",
   "version": "3.11.7"
  }
 },
 "nbformat": 4,
 "nbformat_minor": 5
}
