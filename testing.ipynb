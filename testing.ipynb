{
 "cells": [
  {
   "cell_type": "code",
   "execution_count": 1,
   "id": "39d8e7d4",
   "metadata": {},
   "outputs": [],
   "source": [
    "import json\n",
    "import pandas as pd\n",
    "from eda_pipeline import EDA"
   ]
  },
  {
   "cell_type": "markdown",
   "id": "a646666c",
   "metadata": {},
   "source": [
    "The input data must be in the specific format list in README folder, please give it a check!"
   ]
  },
  {
   "cell_type": "code",
   "execution_count": 2,
   "id": "91017355",
   "metadata": {},
   "outputs": [],
   "source": [
    "with open('data/gemini/extracted_data.json',encoding='utf-8') as f:\n",
    "    data = json.load(f)"
   ]
  },
  {
   "cell_type": "markdown",
   "id": "3a01a9e3",
   "metadata": {},
   "source": [
    "The EDA pipeline will automatically run without needing to input anything but the data itself. However, please note that the pipeline is implemented with specific criteria in mind."
   ]
  },
  {
   "cell_type": "code",
   "execution_count": 3,
   "id": "c351eec3",
   "metadata": {},
   "outputs": [
    {
     "name": "stdout",
     "output_type": "stream",
     "text": [
      "Running EDA pipeline...\n",
      "EDA pipeline completed.\n"
     ]
    }
   ],
   "source": [
    "pipeline = EDA(data)\n",
    "pipeline.run()"
   ]
  },
  {
   "cell_type": "markdown",
   "id": "9f33d8a3",
   "metadata": {},
   "source": [
    "User can request report"
   ]
  },
  {
   "cell_type": "code",
   "execution_count": 4,
   "id": "3638d5d1",
   "metadata": {},
   "outputs": [],
   "source": [
    "pd_df = pipeline.get_dataframe()"
   ]
  }
 ],
 "metadata": {
  "kernelspec": {
   "display_name": "ml-env",
   "language": "python",
   "name": "python3"
  },
  "language_info": {
   "codemirror_mode": {
    "name": "ipython",
    "version": 3
   },
   "file_extension": ".py",
   "mimetype": "text/x-python",
   "name": "python",
   "nbconvert_exporter": "python",
   "pygments_lexer": "ipython3",
   "version": "3.11.7"
  }
 },
 "nbformat": 4,
 "nbformat_minor": 5
}
