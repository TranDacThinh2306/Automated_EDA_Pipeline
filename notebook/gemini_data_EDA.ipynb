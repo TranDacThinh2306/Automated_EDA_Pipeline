{
 "cells": [
  {
   "cell_type": "code",
   "execution_count": 1,
   "id": "ccb94964",
   "metadata": {},
   "outputs": [],
   "source": [
    "import pandas as pd\n",
    "import numpy as np\n",
    "import json"
   ]
  },
  {
   "cell_type": "code",
   "execution_count": 2,
   "id": "79ff0884",
   "metadata": {},
   "outputs": [],
   "source": [
    "with open('data/gemini/raw_answers_checkpoint_25.json', 'r') as f:\n",
    "    data = json.load(f)"
   ]
  },
  {
   "cell_type": "code",
   "execution_count": 3,
   "id": "c6051364",
   "metadata": {},
   "outputs": [
    {
     "name": "stdout",
     "output_type": "stream",
     "text": [
      "Keys in the data dictionary:\n",
      "['image_quality_evaluation',\n",
      " 'image_diversity_evaluation',\n",
      " 'text_quality_evaluation',\n",
      " 'correlation_evaluation',\n",
      " 'image_link',\n",
      " 'image_name',\n",
      " 'question',\n",
      " 'answers',\n",
      " 'index']\n",
      "\n",
      "Sample structure of the first item:\n",
      "{'answers': <class 'list'>,\n",
      " 'correlation_evaluation': <class 'dict'>,\n",
      " 'image_diversity_evaluation': <class 'dict'>,\n",
      " 'image_link': <class 'str'>,\n",
      " 'image_name': <class 'str'>,\n",
      " 'image_quality_evaluation': <class 'dict'>,\n",
      " 'index': <class 'int'>,\n",
      " 'question': <class 'str'>,\n",
      " 'text_quality_evaluation': <class 'dict'>}\n"
     ]
    }
   ],
   "source": [
    "from pprint import pprint\n",
    "\n",
    "# Get the keys from the first item in the data list\n",
    "keys = data[0].keys()\n",
    "\n",
    "# Print the keys in a nicely formatted way\n",
    "print(\"Keys in the data dictionary:\")\n",
    "pprint(list(keys))\n",
    "\n",
    "# You can also see a sample item structure\n",
    "print(\"\\nSample structure of the first item:\")\n",
    "pprint({k: type(data[0][k]) for k in keys})"
   ]
  },
  {
   "cell_type": "code",
   "execution_count": 4,
   "id": "cf13775b",
   "metadata": {},
   "outputs": [],
   "source": [
    "with open('datasetQA_normalized.json', 'r') as f:\n",
    "    qa_data = json.load(f)\n",
    "qa_df = pd.DataFrame(qa_data)"
   ]
  },
  {
   "cell_type": "code",
   "execution_count": 5,
   "id": "5acbeaea",
   "metadata": {},
   "outputs": [],
   "source": [
    "# Create a list to store the extracted data\n",
    "extracted_data = []\n",
    "\n",
    "# Extract the required fields from each item in the data\n",
    "for item in data:\n",
    "    extracted_item = {\n",
    "        'index': int(qa_df.loc[item['index'], 'index']),\n",
    "        'eip': item['image_quality_evaluation'],\n",
    "        'idp': item['image_diversity_evaluation'],\n",
    "        'etp': item['text_quality_evaluation'],\n",
    "        'vqac': item['correlation_evaluation']\n",
    "    }\n",
    "    extracted_data.append(extracted_item)"
   ]
  },
  {
   "cell_type": "code",
   "execution_count": 8,
   "id": "84f2eed4",
   "metadata": {},
   "outputs": [],
   "source": [
    "# Save to JSON file\n",
    "with open('data/gemini/extracted_data.json', 'w',encoding='utf-8') as f:\n",
    "    json.dump(extracted_data, f, indent=4)"
   ]
  }
 ],
 "metadata": {
  "kernelspec": {
   "display_name": "ml-env",
   "language": "python",
   "name": "python3"
  },
  "language_info": {
   "codemirror_mode": {
    "name": "ipython",
    "version": 3
   },
   "file_extension": ".py",
   "mimetype": "text/x-python",
   "name": "python",
   "nbconvert_exporter": "python",
   "pygments_lexer": "ipython3",
   "version": "3.11.7"
  }
 },
 "nbformat": 4,
 "nbformat_minor": 5
}
