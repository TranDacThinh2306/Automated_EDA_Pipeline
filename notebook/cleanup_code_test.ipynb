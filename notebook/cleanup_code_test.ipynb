{
 "cells": [
  {
   "cell_type": "code",
   "execution_count": 1,
   "id": "7a495ce8",
   "metadata": {},
   "outputs": [],
   "source": [
    "# Create Unit Tests for pipeline"
   ]
  },
  {
   "cell_type": "code",
   "execution_count": 2,
   "id": "d1c35be5",
   "metadata": {},
   "outputs": [],
   "source": [
    "# with open('data/gemini/extracted_data.json',encoding='utf-8') as f:\n",
    "#     data = json.load(f)"
   ]
  },
  {
   "cell_type": "code",
   "execution_count": 3,
   "id": "8ba4813a",
   "metadata": {},
   "outputs": [],
   "source": [
    "# data = data[:50]"
   ]
  },
  {
   "cell_type": "code",
   "execution_count": 4,
   "id": "64be7479",
   "metadata": {},
   "outputs": [],
   "source": [
    "import json\n",
    "import pandas as pd\n",
    "from eda_pipeline import EDA"
   ]
  },
  {
   "cell_type": "code",
   "execution_count": 5,
   "id": "71b26284",
   "metadata": {},
   "outputs": [],
   "source": [
    "with open('./test.json',encoding='utf-8') as f:\n",
    "    data = json.load(f)"
   ]
  },
  {
   "cell_type": "code",
   "execution_count": 6,
   "id": "44fcb49a",
   "metadata": {},
   "outputs": [
    {
     "data": {
      "text/plain": [
       "50"
      ]
     },
     "execution_count": 6,
     "metadata": {},
     "output_type": "execute_result"
    }
   ],
   "source": [
    "len(data)"
   ]
  },
  {
   "cell_type": "code",
   "execution_count": 7,
   "id": "6252855f",
   "metadata": {},
   "outputs": [
    {
     "name": "stdout",
     "output_type": "stream",
     "text": [
      "Running EDA pipeline...\n",
      "EDA pipeline completed.\n",
      "EDA pipeline completed.\n"
     ]
    }
   ],
   "source": [
    "pipeline = EDA(data)\n",
    "pipeline.run(file_name='./test.xlsx')"
   ]
  },
  {
   "cell_type": "code",
   "execution_count": 8,
   "id": "22dc1a02",
   "metadata": {},
   "outputs": [],
   "source": [
    "df = pd.json_normalize(data)"
   ]
  },
  {
   "cell_type": "code",
   "execution_count": 9,
   "id": "92a58805",
   "metadata": {},
   "outputs": [
    {
     "data": {
      "text/plain": [
       "RangeIndex(start=0, stop=50, step=1)"
      ]
     },
     "execution_count": 9,
     "metadata": {},
     "output_type": "execute_result"
    }
   ],
   "source": [
    "df.index"
   ]
  },
  {
   "cell_type": "code",
   "execution_count": 10,
   "id": "df13a09c",
   "metadata": {},
   "outputs": [],
   "source": [
    "# import pandas as pd\n",
    "\n",
    "# data = {\n",
    "#     'col1': [[1, 2], [3, 4], [], [5, 6, 7]],\n",
    "#     'col2': [[1, 2], [3, 4], [1], [8, 9]]\n",
    "# }\n",
    "# df = pd.DataFrame(data)\n",
    "\n",
    "# # Hàm is_invalid_row như bạn đã định nghĩa\n",
    "# def is_invalid_row(row):\n",
    "#     try:\n",
    "#         row_lists = row.tolist()\n",
    "#         if not all(isinstance(x, list) for x in row_lists):\n",
    "#             return True\n",
    "#         if any(len(x) == 0 for x in row_lists):\n",
    "#             return True\n",
    "#         lengths = [len(x) for x in row_lists]\n",
    "#         return len(set(lengths)) != 1\n",
    "#     except Exception:\n",
    "#         return True\n",
    "\n",
    "# # Tạo mask\n",
    "# mask = df[['col1', 'col2']].apply(is_invalid_row, axis=1)\n",
    "# print(\"Mask (True = invalid, False = valid):\")\n",
    "# print(mask)\n",
    "\n",
    "# # Lấy các hàng valid\n",
    "# df_valid = df[~mask]\n",
    "# print(\"\\nDataFrame sau khi giữ lại các hàng valid:\")\n",
    "# print(df_valid)"
   ]
  },
  {
   "cell_type": "code",
   "execution_count": null,
   "id": "c96d5792",
   "metadata": {},
   "outputs": [],
   "source": []
  }
 ],
 "metadata": {
  "kernelspec": {
   "display_name": "ml-env",
   "language": "python",
   "name": "python3"
  },
  "language_info": {
   "codemirror_mode": {
    "name": "ipython",
    "version": 3
   },
   "file_extension": ".py",
   "mimetype": "text/x-python",
   "name": "python",
   "nbconvert_exporter": "python",
   "pygments_lexer": "ipython3",
   "version": "3.11.7"
  }
 },
 "nbformat": 4,
 "nbformat_minor": 5
}
