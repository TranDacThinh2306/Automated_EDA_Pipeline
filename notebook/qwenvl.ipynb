{
 "cells": [
  {
   "cell_type": "code",
   "execution_count": 1,
   "id": "aa243e11",
   "metadata": {},
   "outputs": [],
   "source": [
    "import pandas as pd\n",
    "import ast\n",
    "import numpy as np"
   ]
  },
  {
   "cell_type": "code",
   "execution_count": 2,
   "id": "c254fec1",
   "metadata": {},
   "outputs": [],
   "source": [
    "df = pd.read_csv(\"qwen_vl.csv\")"
   ]
  },
  {
   "cell_type": "code",
   "execution_count": 3,
   "id": "ad67e0db",
   "metadata": {},
   "outputs": [],
   "source": [
    "new_columns = [    \n",
    "    \"etp_txt_grammar_Score_answers_median\",\n",
    "    \"etp_txt_unambiguity_Score_answers_median\",\n",
    "    \"etp_txt_qa_structure_Score_answers_median\",\n",
    "    \"etp_syntactic_complexity_Score_answers_median\",\n",
    "    \"etp_language_naturalness_Score_answers_median\",\n",
    "    ]"
   ]
  },
  {
   "cell_type": "code",
   "execution_count": 4,
   "id": "abf0b30f",
   "metadata": {},
   "outputs": [],
   "source": [
    "for col in new_columns:\n",
    "    col_label = col + \"_Label\"\n",
    "    type_value = df[col].median()\n",
    "    df[col_label] = df[col].apply(lambda x: 'Passed' if x >= type_value else 'Failed')"
   ]
  },
  {
   "cell_type": "code",
   "execution_count": 5,
   "id": "e1a9a8f4",
   "metadata": {},
   "outputs": [
    {
     "data": {
      "text/plain": [
       "(6000, 71)"
      ]
     },
     "execution_count": 5,
     "metadata": {},
     "output_type": "execute_result"
    }
   ],
   "source": [
    "df.shape"
   ]
  },
  {
   "cell_type": "code",
   "execution_count": 6,
   "id": "6d85998d",
   "metadata": {},
   "outputs": [],
   "source": [
    "import json\n",
    "\n",
    "with open(\"datasetQA_normalized.json\", \"r\") as f:\n",
    "    dataset = json.load(f)\n",
    "\n",
    "dataQA_df = pd.DataFrame(dataset)\n",
    "dataQA_df['index'] = dataQA_df['index'].astype(str)\n",
    "\n",
    "for i, _ in enumerate(df.index):\n",
    "    df.loc[i,'index'] = dataQA_df.loc[i,'index']"
   ]
  },
  {
   "cell_type": "code",
   "execution_count": 7,
   "id": "429a087a",
   "metadata": {},
   "outputs": [
    {
     "data": {
      "text/plain": [
       "(6000, 72)"
      ]
     },
     "execution_count": 7,
     "metadata": {},
     "output_type": "execute_result"
    }
   ],
   "source": [
    "df.shape"
   ]
  },
  {
   "cell_type": "code",
   "execution_count": 8,
   "id": "53c9ef3f",
   "metadata": {},
   "outputs": [
    {
     "data": {
      "text/plain": [
       "0        28828\n",
       "1        62879\n",
       "2        94762\n",
       "3         6000\n",
       "4        87488\n",
       "         ...  \n",
       "5995     61372\n",
       "5996     51751\n",
       "5997     38949\n",
       "5998     75251\n",
       "5999    100939\n",
       "Name: index, Length: 6000, dtype: object"
      ]
     },
     "execution_count": 8,
     "metadata": {},
     "output_type": "execute_result"
    }
   ],
   "source": [
    "df['index']"
   ]
  },
  {
   "cell_type": "code",
   "execution_count": 9,
   "id": "22714770",
   "metadata": {},
   "outputs": [],
   "source": [
    "df.to_csv(\"qwen_vl_labeled.csv\", index=False)"
   ]
  }
 ],
 "metadata": {
  "kernelspec": {
   "display_name": "ml-env",
   "language": "python",
   "name": "python3"
  },
  "language_info": {
   "codemirror_mode": {
    "name": "ipython",
    "version": 3
   },
   "file_extension": ".py",
   "mimetype": "text/x-python",
   "name": "python",
   "nbconvert_exporter": "python",
   "pygments_lexer": "ipython3",
   "version": "3.11.7"
  }
 },
 "nbformat": 4,
 "nbformat_minor": 5
}
