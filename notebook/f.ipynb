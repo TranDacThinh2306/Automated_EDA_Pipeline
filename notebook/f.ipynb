{
 "cells": [
  {
   "cell_type": "code",
   "execution_count": 1,
   "id": "3139f531",
   "metadata": {},
   "outputs": [],
   "source": [
    "import pandas as pd\n",
    "from script import SceneTypeProcessor"
   ]
  },
  {
   "cell_type": "code",
   "execution_count": 2,
   "id": "6c114bec",
   "metadata": {},
   "outputs": [],
   "source": [
    "df = pd.read_csv('labeled_data/gpt.csv',encoding='utf-8')"
   ]
  },
  {
   "cell_type": "code",
   "execution_count": 3,
   "id": "44115dae",
   "metadata": {},
   "outputs": [],
   "source": [
    "processor = SceneTypeProcessor()\n",
    "newdf = processor.process(df)"
   ]
  },
  {
   "cell_type": "code",
   "execution_count": 4,
   "id": "7a1a3bb1",
   "metadata": {},
   "outputs": [],
   "source": [
    "newdf['index'] = newdf['index'].astype(str)"
   ]
  },
  {
   "cell_type": "code",
   "execution_count": 8,
   "id": "edde40ed",
   "metadata": {},
   "outputs": [
    {
     "data": {
      "text/plain": [
       "0       ['Các câu trả lời dùng ngôn ngữ tự nhiên, lưu ...\n",
       "1       ['Các câu trả lời tự nhiên, phù hợp ngữ cảnh t...\n",
       "2       ['Ngôn ngữ trong các câu trả lời rất tự nhiên,...\n",
       "3       ['Các câu trả lời tự nhiên, phù hợp với phong ...\n",
       "4       ['Các câu trả lời dùng từ ngữ tự nhiên, phù hợ...\n",
       "                              ...                        \n",
       "8275    ['Ngôn ngữ tự nhiên, phù hợp với cách nói chuy...\n",
       "8276    ['Các câu trả lời đều tự nhiên, phù hợp với cá...\n",
       "8277    ['Ngôn ngữ tự nhiên, lưu loát, không mang tính...\n",
       "8278    ['Ngôn ngữ tự nhiên, mạch lạc, phù hợp với ngữ...\n",
       "8279    ['Các câu trả lời tự nhiên, mạch lạc, phù hợp ...\n",
       "Name: etp_language_naturalness_Reason_for_answers, Length: 8280, dtype: object"
      ]
     },
     "execution_count": 8,
     "metadata": {},
     "output_type": "execute_result"
    }
   ],
   "source": [
    "newdf['etp_language_naturalness_Reason_for_answers']"
   ]
  },
  {
   "cell_type": "code",
   "execution_count": 5,
   "id": "7c7f2d5b",
   "metadata": {},
   "outputs": [
    {
     "name": "stdout",
     "output_type": "stream",
     "text": [
      "<class 'pandas.core.frame.DataFrame'>\n",
      "RangeIndex: 8280 entries, 0 to 8279\n",
      "Data columns (total 72 columns):\n",
      " #   Column                                               Non-Null Count  Dtype  \n",
      "---  ------                                               --------------  -----  \n",
      " 0   etp_txt_grammar_Score_for_question                   8280 non-null   int64  \n",
      " 1   etp_txt_grammar_Reason_for_question                  8280 non-null   object \n",
      " 2   etp_txt_grammar_Score_for_answers                    8280 non-null   object \n",
      " 3   etp_txt_grammar_Reason_for_answers                   8280 non-null   object \n",
      " 4   etp_txt_unambiguity_Score_for_question               8280 non-null   float64\n",
      " 5   etp_txt_unambiguity_Reason_for_question              8280 non-null   object \n",
      " 6   etp_txt_unambiguity_Score_for_answers                8280 non-null   object \n",
      " 7   etp_txt_unambiguity_Reason_for_answers               8280 non-null   object \n",
      " 8   etp_txt_qa_structure_Score_for_question              8280 non-null   int64  \n",
      " 9   etp_txt_qa_structure_Reason_for_question             8280 non-null   object \n",
      " 10  etp_txt_qa_structure_Score_for_answers               8280 non-null   object \n",
      " 11  etp_txt_qa_structure_Reason_for_answers              8280 non-null   object \n",
      " 12  etp_syntactic_complexity_Score_for_question          8280 non-null   float64\n",
      " 13  etp_syntactic_complexity_Reason_for_question         8280 non-null   object \n",
      " 14  etp_syntactic_complexity_Score_for_answers           8280 non-null   object \n",
      " 15  etp_syntactic_complexity_Reason_for_answers          8280 non-null   object \n",
      " 16  etp_language_naturalness_Score_for_question          8280 non-null   float64\n",
      " 17  etp_language_naturalness_Reason_for_question         8280 non-null   object \n",
      " 18  etp_language_naturalness_Score_for_answers           8280 non-null   object \n",
      " 19  etp_language_naturalness_Reason_for_answers          8280 non-null   object \n",
      " 20  eip_img_clarity_Score                                8280 non-null   float64\n",
      " 21  eip_img_clarity_Reason                               8280 non-null   object \n",
      " 22  eip_img_occlusion_Score                              8280 non-null   float64\n",
      " 23  eip_img_occlusion_Reason                             8280 non-null   object \n",
      " 24  eip_img_diff_ability_Score                           8280 non-null   float64\n",
      " 25  eip_img_diff_ability_Reason                          8280 non-null   object \n",
      " 26  eip_img_object_density_Score                         8280 non-null   float64\n",
      " 27  eip_img_interaction_level_Score                      8280 non-null   float64\n",
      " 28  eip_img_interaction_level_Reason                     8280 non-null   object \n",
      " 29  eip_img_scene_clutter_Score                          8280 non-null   float64\n",
      " 30  idp_Img_scene_type                                   8280 non-null   object \n",
      " 31  idp_Img_main_object                                  8280 non-null   object \n",
      " 32  idp_Image_mainobj_descrip                            8280 non-null   object \n",
      " 33  idp_Cultural_context                                 8280 non-null   object \n",
      " 34  idp_Demographic_signals                              8280 non-null   object \n",
      " 35  idp_Scene_typicality_score                           8280 non-null   float64\n",
      " 36  vqac_question_to_image_response                      8280 non-null   object \n",
      " 37  vqac_question_to_image_reason                        8280 non-null   object \n",
      " 38  vqac_answer_to_image_response                        8280 non-null   object \n",
      " 39  vqac_answer_to_image_overall_response                8280 non-null   object \n",
      " 40  vqac_answer_to_image_reason                          8280 non-null   object \n",
      " 41  vqac_question_to_answer_response                     8280 non-null   object \n",
      " 42  vqac_question_to_answer_overall_response             8280 non-null   object \n",
      " 43  vqac_question_to_answer_reason                       8280 non-null   object \n",
      " 44  vqac_guess_the_answer_response                       8280 non-null   object \n",
      " 45  vqac_guess_the_answer_reason                         8280 non-null   object \n",
      " 46  vqac_reason_depth_response                           8280 non-null   float64\n",
      " 47  vqac_reason_depth_reason                             8280 non-null   object \n",
      " 48  index                                                8280 non-null   object \n",
      " 49  etp_txt_grammar_Score_answers_median                 8280 non-null   float64\n",
      " 50  etp_txt_unambiguity_Score_answers_median             8280 non-null   float64\n",
      " 51  etp_txt_qa_structure_Score_answers_median            8280 non-null   float64\n",
      " 52  etp_syntactic_complexity_Score_answers_median        8280 non-null   float64\n",
      " 53  etp_language_naturalness_Score_answers_median        8280 non-null   float64\n",
      " 54  etp_txt_grammar_Score_for_question_Label             8280 non-null   object \n",
      " 55  etp_txt_unambiguity_Score_for_question_Label         8280 non-null   object \n",
      " 56  etp_txt_qa_structure_Score_for_question_Label        8280 non-null   object \n",
      " 57  etp_syntactic_complexity_Score_for_question_Label    8280 non-null   object \n",
      " 58  etp_language_naturalness_Score_for_question_Label    8280 non-null   object \n",
      " 59  eip_img_clarity_Score_Label                          8280 non-null   object \n",
      " 60  eip_img_occlusion_Score_Label                        8280 non-null   object \n",
      " 61  eip_img_diff_ability_Score_Label                     8280 non-null   object \n",
      " 62  eip_img_object_density_Score_Label                   8280 non-null   object \n",
      " 63  eip_img_interaction_level_Score_Label                8280 non-null   object \n",
      " 64  eip_img_scene_clutter_Score_Label                    8280 non-null   object \n",
      " 65  idp_Scene_typicality_score_Label                     8280 non-null   object \n",
      " 66  vqac_reason_depth_response_Label                     8280 non-null   object \n",
      " 67  etp_txt_grammar_Score_answers_median_Label           8280 non-null   object \n",
      " 68  etp_txt_unambiguity_Score_answers_median_Label       8280 non-null   object \n",
      " 69  etp_txt_qa_structure_Score_answers_median_Label      8280 non-null   object \n",
      " 70  etp_syntactic_complexity_Score_answers_median_Label  8280 non-null   object \n",
      " 71  etp_language_naturalness_Score_answers_median_Label  8280 non-null   object \n",
      "dtypes: float64(16), int64(2), object(54)\n",
      "memory usage: 4.5+ MB\n"
     ]
    }
   ],
   "source": [
    "newdf.info()"
   ]
  }
 ],
 "metadata": {
  "kernelspec": {
   "display_name": "ml-env",
   "language": "python",
   "name": "python3"
  },
  "language_info": {
   "codemirror_mode": {
    "name": "ipython",
    "version": 3
   },
   "file_extension": ".py",
   "mimetype": "text/x-python",
   "name": "python",
   "nbconvert_exporter": "python",
   "pygments_lexer": "ipython3",
   "version": "3.11.7"
  }
 },
 "nbformat": 4,
 "nbformat_minor": 5
}
